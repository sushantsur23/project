{
 "cells": [
  {
   "cell_type": "code",
   "execution_count": 59,
   "metadata": {},
   "outputs": [],
   "source": [
    "import numpy as np\n",
    "import pandas as pd\n",
    "import pickle\n",
    "from pandas_profiling import ProfileReport\n",
    "import matplotlib.pyplot as plt\n",
    "from sklearn.preprocessing import StandardScaler\n",
    "from sklearn.linear_model import Ridge,Lasso ,RidgeCV,LassoCV , ElasticNet , ElasticNetCV,LinearRegression\n",
    "from sklearn.model_selection import train_test_split\n",
    "import seaborn as sns"
   ]
  },
  {
   "cell_type": "code",
   "execution_count": 60,
   "metadata": {},
   "outputs": [],
   "source": [
    "'''\n",
    "reading the dataset\n",
    "'''\n",
    "df = pd.read_csv(\"ai4i2020.csv\",index_col=0)\n",
    "df.rename(columns ={'Air temperature [K]':'AT','Process temperature [K]':'PT','Rotational speed [rpm]':'RS',\n",
    "                        'Torque [Nm]':'Torque','Tool wear [min]':'TW','Machine failure':'MF'}, inplace =True)"
   ]
  },
  {
   "cell_type": "code",
   "execution_count": 61,
   "metadata": {},
   "outputs": [
    {
     "data": {
      "text/plain": [
       "Index(['Product ID', 'Type', 'AT', 'PT', 'RS', 'Torque', 'TW', 'MF', 'TWF',\n",
       "       'HDF', 'PWF', 'OSF', 'RNF'],\n",
       "      dtype='object')"
      ]
     },
     "execution_count": 61,
     "metadata": {},
     "output_type": "execute_result"
    }
   ],
   "source": [
    "df.reset_index(drop = True, inplace = True)\n",
    "\n",
    "df.columns"
   ]
  },
  {
   "cell_type": "code",
   "execution_count": 62,
   "metadata": {
    "scrolled": true
   },
   "outputs": [],
   "source": [
    "#dropping the columns which are not needed\n",
    "df.drop(['Product ID', 'Type'], axis =1, inplace = True)"
   ]
  },
  {
   "cell_type": "code",
   "execution_count": 63,
   "metadata": {},
   "outputs": [
    {
     "name": "stdout",
     "output_type": "stream",
     "text": [
      "         AT     PT    RS  Torque  TW  MF  TWF  HDF  PWF  OSF  RNF\n",
      "0     298.1  308.6  1551    42.8   0   0    0    0    0    0    0\n",
      "1     298.2  308.7  1408    46.3   3   0    0    0    0    0    0\n",
      "2     298.1  308.5  1498    49.4   5   0    0    0    0    0    0\n",
      "3     298.2  308.6  1433    39.5   7   0    0    0    0    0    0\n",
      "4     298.2  308.7  1408    40.0   9   0    0    0    0    0    0\n",
      "...     ...    ...   ...     ...  ..  ..  ...  ...  ...  ...  ...\n",
      "9995  298.8  308.4  1604    29.5  14   0    0    0    0    0    0\n",
      "9996  298.9  308.4  1632    31.8  17   0    0    0    0    0    0\n",
      "9997  299.0  308.6  1645    33.4  22   0    0    0    0    0    0\n",
      "9998  299.0  308.7  1408    48.5  25   0    0    0    0    0    0\n",
      "9999  299.0  308.7  1500    40.2  30   0    0    0    0    0    0\n",
      "\n",
      "[10000 rows x 11 columns]\n"
     ]
    }
   ],
   "source": [
    "print(df)"
   ]
  },
  {
   "cell_type": "code",
   "execution_count": 64,
   "metadata": {},
   "outputs": [
    {
     "data": {
      "text/plain": [
       "Index(['AT', 'PT', 'RS', 'Torque', 'TW', 'MF', 'TWF', 'HDF', 'PWF', 'OSF',\n",
       "       'RNF'],\n",
       "      dtype='object')"
      ]
     },
     "execution_count": 64,
     "metadata": {},
     "output_type": "execute_result"
    }
   ],
   "source": [
    "df.columns"
   ]
  },
  {
   "cell_type": "code",
   "execution_count": 65,
   "metadata": {},
   "outputs": [
    {
     "data": {
      "text/html": [
       "<div>\n",
       "<style scoped>\n",
       "    .dataframe tbody tr th:only-of-type {\n",
       "        vertical-align: middle;\n",
       "    }\n",
       "\n",
       "    .dataframe tbody tr th {\n",
       "        vertical-align: top;\n",
       "    }\n",
       "\n",
       "    .dataframe thead th {\n",
       "        text-align: right;\n",
       "    }\n",
       "</style>\n",
       "<table border=\"1\" class=\"dataframe\">\n",
       "  <thead>\n",
       "    <tr style=\"text-align: right;\">\n",
       "      <th></th>\n",
       "      <th>PT</th>\n",
       "      <th>RS</th>\n",
       "      <th>Torque</th>\n",
       "      <th>TW</th>\n",
       "      <th>MF</th>\n",
       "      <th>TWF</th>\n",
       "      <th>HDF</th>\n",
       "      <th>PWF</th>\n",
       "      <th>OSF</th>\n",
       "      <th>RNF</th>\n",
       "    </tr>\n",
       "  </thead>\n",
       "  <tbody>\n",
       "    <tr>\n",
       "      <th>0</th>\n",
       "      <td>308.6</td>\n",
       "      <td>1551</td>\n",
       "      <td>42.8</td>\n",
       "      <td>0</td>\n",
       "      <td>0</td>\n",
       "      <td>0</td>\n",
       "      <td>0</td>\n",
       "      <td>0</td>\n",
       "      <td>0</td>\n",
       "      <td>0</td>\n",
       "    </tr>\n",
       "    <tr>\n",
       "      <th>1</th>\n",
       "      <td>308.7</td>\n",
       "      <td>1408</td>\n",
       "      <td>46.3</td>\n",
       "      <td>3</td>\n",
       "      <td>0</td>\n",
       "      <td>0</td>\n",
       "      <td>0</td>\n",
       "      <td>0</td>\n",
       "      <td>0</td>\n",
       "      <td>0</td>\n",
       "    </tr>\n",
       "    <tr>\n",
       "      <th>2</th>\n",
       "      <td>308.5</td>\n",
       "      <td>1498</td>\n",
       "      <td>49.4</td>\n",
       "      <td>5</td>\n",
       "      <td>0</td>\n",
       "      <td>0</td>\n",
       "      <td>0</td>\n",
       "      <td>0</td>\n",
       "      <td>0</td>\n",
       "      <td>0</td>\n",
       "    </tr>\n",
       "    <tr>\n",
       "      <th>3</th>\n",
       "      <td>308.6</td>\n",
       "      <td>1433</td>\n",
       "      <td>39.5</td>\n",
       "      <td>7</td>\n",
       "      <td>0</td>\n",
       "      <td>0</td>\n",
       "      <td>0</td>\n",
       "      <td>0</td>\n",
       "      <td>0</td>\n",
       "      <td>0</td>\n",
       "    </tr>\n",
       "    <tr>\n",
       "      <th>4</th>\n",
       "      <td>308.7</td>\n",
       "      <td>1408</td>\n",
       "      <td>40.0</td>\n",
       "      <td>9</td>\n",
       "      <td>0</td>\n",
       "      <td>0</td>\n",
       "      <td>0</td>\n",
       "      <td>0</td>\n",
       "      <td>0</td>\n",
       "      <td>0</td>\n",
       "    </tr>\n",
       "    <tr>\n",
       "      <th>...</th>\n",
       "      <td>...</td>\n",
       "      <td>...</td>\n",
       "      <td>...</td>\n",
       "      <td>...</td>\n",
       "      <td>...</td>\n",
       "      <td>...</td>\n",
       "      <td>...</td>\n",
       "      <td>...</td>\n",
       "      <td>...</td>\n",
       "      <td>...</td>\n",
       "    </tr>\n",
       "    <tr>\n",
       "      <th>9995</th>\n",
       "      <td>308.4</td>\n",
       "      <td>1604</td>\n",
       "      <td>29.5</td>\n",
       "      <td>14</td>\n",
       "      <td>0</td>\n",
       "      <td>0</td>\n",
       "      <td>0</td>\n",
       "      <td>0</td>\n",
       "      <td>0</td>\n",
       "      <td>0</td>\n",
       "    </tr>\n",
       "    <tr>\n",
       "      <th>9996</th>\n",
       "      <td>308.4</td>\n",
       "      <td>1632</td>\n",
       "      <td>31.8</td>\n",
       "      <td>17</td>\n",
       "      <td>0</td>\n",
       "      <td>0</td>\n",
       "      <td>0</td>\n",
       "      <td>0</td>\n",
       "      <td>0</td>\n",
       "      <td>0</td>\n",
       "    </tr>\n",
       "    <tr>\n",
       "      <th>9997</th>\n",
       "      <td>308.6</td>\n",
       "      <td>1645</td>\n",
       "      <td>33.4</td>\n",
       "      <td>22</td>\n",
       "      <td>0</td>\n",
       "      <td>0</td>\n",
       "      <td>0</td>\n",
       "      <td>0</td>\n",
       "      <td>0</td>\n",
       "      <td>0</td>\n",
       "    </tr>\n",
       "    <tr>\n",
       "      <th>9998</th>\n",
       "      <td>308.7</td>\n",
       "      <td>1408</td>\n",
       "      <td>48.5</td>\n",
       "      <td>25</td>\n",
       "      <td>0</td>\n",
       "      <td>0</td>\n",
       "      <td>0</td>\n",
       "      <td>0</td>\n",
       "      <td>0</td>\n",
       "      <td>0</td>\n",
       "    </tr>\n",
       "    <tr>\n",
       "      <th>9999</th>\n",
       "      <td>308.7</td>\n",
       "      <td>1500</td>\n",
       "      <td>40.2</td>\n",
       "      <td>30</td>\n",
       "      <td>0</td>\n",
       "      <td>0</td>\n",
       "      <td>0</td>\n",
       "      <td>0</td>\n",
       "      <td>0</td>\n",
       "      <td>0</td>\n",
       "    </tr>\n",
       "  </tbody>\n",
       "</table>\n",
       "<p>10000 rows × 10 columns</p>\n",
       "</div>"
      ],
      "text/plain": [
       "         PT    RS  Torque  TW  MF  TWF  HDF  PWF  OSF  RNF\n",
       "0     308.6  1551    42.8   0   0    0    0    0    0    0\n",
       "1     308.7  1408    46.3   3   0    0    0    0    0    0\n",
       "2     308.5  1498    49.4   5   0    0    0    0    0    0\n",
       "3     308.6  1433    39.5   7   0    0    0    0    0    0\n",
       "4     308.7  1408    40.0   9   0    0    0    0    0    0\n",
       "...     ...   ...     ...  ..  ..  ...  ...  ...  ...  ...\n",
       "9995  308.4  1604    29.5  14   0    0    0    0    0    0\n",
       "9996  308.4  1632    31.8  17   0    0    0    0    0    0\n",
       "9997  308.6  1645    33.4  22   0    0    0    0    0    0\n",
       "9998  308.7  1408    48.5  25   0    0    0    0    0    0\n",
       "9999  308.7  1500    40.2  30   0    0    0    0    0    0\n",
       "\n",
       "[10000 rows x 10 columns]"
      ]
     },
     "execution_count": 65,
     "metadata": {},
     "output_type": "execute_result"
    }
   ],
   "source": [
    "df.iloc[:,1:]"
   ]
  },
  {
   "cell_type": "code",
   "execution_count": 66,
   "metadata": {},
   "outputs": [],
   "source": [
    "#scaling down to being the data in terms of normal distribution also the algorithm will run faster in this case.\n",
    "scaler = StandardScaler()\n",
    "df1 = df.iloc[:,1:] = scaler.fit_transform(df.iloc[:,1:])\n"
   ]
  },
  {
   "cell_type": "code",
   "execution_count": 67,
   "metadata": {},
   "outputs": [
    {
     "data": {
      "text/html": [
       "<div>\n",
       "<style scoped>\n",
       "    .dataframe tbody tr th:only-of-type {\n",
       "        vertical-align: middle;\n",
       "    }\n",
       "\n",
       "    .dataframe tbody tr th {\n",
       "        vertical-align: top;\n",
       "    }\n",
       "\n",
       "    .dataframe thead th {\n",
       "        text-align: right;\n",
       "    }\n",
       "</style>\n",
       "<table border=\"1\" class=\"dataframe\">\n",
       "  <thead>\n",
       "    <tr style=\"text-align: right;\">\n",
       "      <th></th>\n",
       "      <th>AT</th>\n",
       "      <th>PT</th>\n",
       "      <th>RS</th>\n",
       "      <th>Torque</th>\n",
       "      <th>TW</th>\n",
       "      <th>MF</th>\n",
       "      <th>TWF</th>\n",
       "      <th>HDF</th>\n",
       "      <th>PWF</th>\n",
       "      <th>OSF</th>\n",
       "      <th>RNF</th>\n",
       "    </tr>\n",
       "  </thead>\n",
       "  <tbody>\n",
       "    <tr>\n",
       "      <th>0</th>\n",
       "      <td>298.1</td>\n",
       "      <td>-0.947360</td>\n",
       "      <td>0.068185</td>\n",
       "      <td>0.282200</td>\n",
       "      <td>-1.695984</td>\n",
       "      <td>-0.187322</td>\n",
       "      <td>-0.06798</td>\n",
       "      <td>-0.10786</td>\n",
       "      <td>-0.097934</td>\n",
       "      <td>-0.099484</td>\n",
       "      <td>-0.04363</td>\n",
       "    </tr>\n",
       "    <tr>\n",
       "      <th>1</th>\n",
       "      <td>298.2</td>\n",
       "      <td>-0.879959</td>\n",
       "      <td>-0.729472</td>\n",
       "      <td>0.633308</td>\n",
       "      <td>-1.648852</td>\n",
       "      <td>-0.187322</td>\n",
       "      <td>-0.06798</td>\n",
       "      <td>-0.10786</td>\n",
       "      <td>-0.097934</td>\n",
       "      <td>-0.099484</td>\n",
       "      <td>-0.04363</td>\n",
       "    </tr>\n",
       "    <tr>\n",
       "      <th>2</th>\n",
       "      <td>298.1</td>\n",
       "      <td>-1.014761</td>\n",
       "      <td>-0.227450</td>\n",
       "      <td>0.944290</td>\n",
       "      <td>-1.617430</td>\n",
       "      <td>-0.187322</td>\n",
       "      <td>-0.06798</td>\n",
       "      <td>-0.10786</td>\n",
       "      <td>-0.097934</td>\n",
       "      <td>-0.099484</td>\n",
       "      <td>-0.04363</td>\n",
       "    </tr>\n",
       "    <tr>\n",
       "      <th>3</th>\n",
       "      <td>298.2</td>\n",
       "      <td>-0.947360</td>\n",
       "      <td>-0.590021</td>\n",
       "      <td>-0.048845</td>\n",
       "      <td>-1.586009</td>\n",
       "      <td>-0.187322</td>\n",
       "      <td>-0.06798</td>\n",
       "      <td>-0.10786</td>\n",
       "      <td>-0.097934</td>\n",
       "      <td>-0.099484</td>\n",
       "      <td>-0.04363</td>\n",
       "    </tr>\n",
       "    <tr>\n",
       "      <th>4</th>\n",
       "      <td>298.2</td>\n",
       "      <td>-0.879959</td>\n",
       "      <td>-0.729472</td>\n",
       "      <td>0.001313</td>\n",
       "      <td>-1.554588</td>\n",
       "      <td>-0.187322</td>\n",
       "      <td>-0.06798</td>\n",
       "      <td>-0.10786</td>\n",
       "      <td>-0.097934</td>\n",
       "      <td>-0.099484</td>\n",
       "      <td>-0.04363</td>\n",
       "    </tr>\n",
       "    <tr>\n",
       "      <th>...</th>\n",
       "      <td>...</td>\n",
       "      <td>...</td>\n",
       "      <td>...</td>\n",
       "      <td>...</td>\n",
       "      <td>...</td>\n",
       "      <td>...</td>\n",
       "      <td>...</td>\n",
       "      <td>...</td>\n",
       "      <td>...</td>\n",
       "      <td>...</td>\n",
       "      <td>...</td>\n",
       "    </tr>\n",
       "    <tr>\n",
       "      <th>9995</th>\n",
       "      <td>298.8</td>\n",
       "      <td>-1.082162</td>\n",
       "      <td>0.363820</td>\n",
       "      <td>-1.052012</td>\n",
       "      <td>-1.476034</td>\n",
       "      <td>-0.187322</td>\n",
       "      <td>-0.06798</td>\n",
       "      <td>-0.10786</td>\n",
       "      <td>-0.097934</td>\n",
       "      <td>-0.099484</td>\n",
       "      <td>-0.04363</td>\n",
       "    </tr>\n",
       "    <tr>\n",
       "      <th>9996</th>\n",
       "      <td>298.9</td>\n",
       "      <td>-1.082162</td>\n",
       "      <td>0.520005</td>\n",
       "      <td>-0.821283</td>\n",
       "      <td>-1.428902</td>\n",
       "      <td>-0.187322</td>\n",
       "      <td>-0.06798</td>\n",
       "      <td>-0.10786</td>\n",
       "      <td>-0.097934</td>\n",
       "      <td>-0.099484</td>\n",
       "      <td>-0.04363</td>\n",
       "    </tr>\n",
       "    <tr>\n",
       "      <th>9997</th>\n",
       "      <td>299.0</td>\n",
       "      <td>-0.947360</td>\n",
       "      <td>0.592519</td>\n",
       "      <td>-0.660777</td>\n",
       "      <td>-1.350349</td>\n",
       "      <td>-0.187322</td>\n",
       "      <td>-0.06798</td>\n",
       "      <td>-0.10786</td>\n",
       "      <td>-0.097934</td>\n",
       "      <td>-0.099484</td>\n",
       "      <td>-0.04363</td>\n",
       "    </tr>\n",
       "    <tr>\n",
       "      <th>9998</th>\n",
       "      <td>299.0</td>\n",
       "      <td>-0.879959</td>\n",
       "      <td>-0.729472</td>\n",
       "      <td>0.854005</td>\n",
       "      <td>-1.303217</td>\n",
       "      <td>-0.187322</td>\n",
       "      <td>-0.06798</td>\n",
       "      <td>-0.10786</td>\n",
       "      <td>-0.097934</td>\n",
       "      <td>-0.099484</td>\n",
       "      <td>-0.04363</td>\n",
       "    </tr>\n",
       "    <tr>\n",
       "      <th>9999</th>\n",
       "      <td>299.0</td>\n",
       "      <td>-0.879959</td>\n",
       "      <td>-0.216294</td>\n",
       "      <td>0.021376</td>\n",
       "      <td>-1.224663</td>\n",
       "      <td>-0.187322</td>\n",
       "      <td>-0.06798</td>\n",
       "      <td>-0.10786</td>\n",
       "      <td>-0.097934</td>\n",
       "      <td>-0.099484</td>\n",
       "      <td>-0.04363</td>\n",
       "    </tr>\n",
       "  </tbody>\n",
       "</table>\n",
       "<p>10000 rows × 11 columns</p>\n",
       "</div>"
      ],
      "text/plain": [
       "         AT        PT        RS    Torque        TW        MF      TWF  \\\n",
       "0     298.1 -0.947360  0.068185  0.282200 -1.695984 -0.187322 -0.06798   \n",
       "1     298.2 -0.879959 -0.729472  0.633308 -1.648852 -0.187322 -0.06798   \n",
       "2     298.1 -1.014761 -0.227450  0.944290 -1.617430 -0.187322 -0.06798   \n",
       "3     298.2 -0.947360 -0.590021 -0.048845 -1.586009 -0.187322 -0.06798   \n",
       "4     298.2 -0.879959 -0.729472  0.001313 -1.554588 -0.187322 -0.06798   \n",
       "...     ...       ...       ...       ...       ...       ...      ...   \n",
       "9995  298.8 -1.082162  0.363820 -1.052012 -1.476034 -0.187322 -0.06798   \n",
       "9996  298.9 -1.082162  0.520005 -0.821283 -1.428902 -0.187322 -0.06798   \n",
       "9997  299.0 -0.947360  0.592519 -0.660777 -1.350349 -0.187322 -0.06798   \n",
       "9998  299.0 -0.879959 -0.729472  0.854005 -1.303217 -0.187322 -0.06798   \n",
       "9999  299.0 -0.879959 -0.216294  0.021376 -1.224663 -0.187322 -0.06798   \n",
       "\n",
       "          HDF       PWF       OSF      RNF  \n",
       "0    -0.10786 -0.097934 -0.099484 -0.04363  \n",
       "1    -0.10786 -0.097934 -0.099484 -0.04363  \n",
       "2    -0.10786 -0.097934 -0.099484 -0.04363  \n",
       "3    -0.10786 -0.097934 -0.099484 -0.04363  \n",
       "4    -0.10786 -0.097934 -0.099484 -0.04363  \n",
       "...       ...       ...       ...      ...  \n",
       "9995 -0.10786 -0.097934 -0.099484 -0.04363  \n",
       "9996 -0.10786 -0.097934 -0.099484 -0.04363  \n",
       "9997 -0.10786 -0.097934 -0.099484 -0.04363  \n",
       "9998 -0.10786 -0.097934 -0.099484 -0.04363  \n",
       "9999 -0.10786 -0.097934 -0.099484 -0.04363  \n",
       "\n",
       "[10000 rows x 11 columns]"
      ]
     },
     "execution_count": 67,
     "metadata": {},
     "output_type": "execute_result"
    }
   ],
   "source": [
    "df"
   ]
  },
  {
   "cell_type": "code",
   "execution_count": 68,
   "metadata": {},
   "outputs": [
    {
     "data": {
      "application/vnd.jupyter.widget-view+json": {
       "model_id": "de74f8264fc54a35b287b43c22e3f29e",
       "version_major": 2,
       "version_minor": 0
      },
      "text/plain": [
       "HBox(children=(HTML(value='Summarize dataset'), FloatProgress(value=0.0, max=24.0), HTML(value='')))"
      ]
     },
     "metadata": {},
     "output_type": "display_data"
    },
    {
     "name": "stdout",
     "output_type": "stream",
     "text": [
      "\n"
     ]
    },
    {
     "data": {
      "application/vnd.jupyter.widget-view+json": {
       "model_id": "63f32da1e7894daab6318a1d4e679310",
       "version_major": 2,
       "version_minor": 0
      },
      "text/plain": [
       "HBox(children=(HTML(value='Generate report structure'), FloatProgress(value=0.0, max=1.0), HTML(value='')))"
      ]
     },
     "metadata": {},
     "output_type": "display_data"
    },
    {
     "name": "stdout",
     "output_type": "stream",
     "text": [
      "\n"
     ]
    },
    {
     "data": {
      "application/vnd.jupyter.widget-view+json": {
       "model_id": "",
       "version_major": 2,
       "version_minor": 0
      },
      "text/plain": [
       "HBox(children=(HTML(value='Render widgets'), FloatProgress(value=0.0, max=1.0), HTML(value='')))"
      ]
     },
     "metadata": {},
     "output_type": "display_data"
    },
    {
     "data": {
      "application/vnd.jupyter.widget-view+json": {
       "model_id": "c600113ae149447295dc745320d624a1",
       "version_major": 2,
       "version_minor": 0
      },
      "text/plain": [
       "VBox(children=(Tab(children=(Tab(children=(GridBox(children=(VBox(children=(GridspecLayout(children=(HTML(valu…"
      ]
     },
     "metadata": {},
     "output_type": "display_data"
    }
   ],
   "source": [
    "'''creating the pandas profiling'''\n",
    "pf = ProfileReport(df)\n",
    "pf.to_widgets()"
   ]
  },
  {
   "cell_type": "code",
   "execution_count": 69,
   "metadata": {},
   "outputs": [
    {
     "data": {
      "text/plain": [
       "'\\nObservations :-\\n1) we have 10000 observations wirh 5 numeric and 6 categorical columns\\n2) NAN values -> there are no nan values.\\n3) Under overview warnings tab we see that most of the features are highy correlated. however in correlations tab we see that \\n4) \\n\\n\\n'"
      ]
     },
     "execution_count": 69,
     "metadata": {},
     "output_type": "execute_result"
    }
   ],
   "source": [
    "'''\n",
    "Observations :-\n",
    "1) we have 10000 observations wirh 5 numeric and 6 categorical columns\n",
    "2) NAN values -> there are no nan values.\n",
    "3) Under overview warnings tab we see that most of the features are highy correlated. however in correlations tab we see that \n",
    "4) \n",
    "\n",
    "\n",
    "'''"
   ]
  },
  {
   "cell_type": "code",
   "execution_count": 70,
   "metadata": {},
   "outputs": [
    {
     "data": {
      "text/html": [
       "<div>\n",
       "<style scoped>\n",
       "    .dataframe tbody tr th:only-of-type {\n",
       "        vertical-align: middle;\n",
       "    }\n",
       "\n",
       "    .dataframe tbody tr th {\n",
       "        vertical-align: top;\n",
       "    }\n",
       "\n",
       "    .dataframe thead th {\n",
       "        text-align: right;\n",
       "    }\n",
       "</style>\n",
       "<table border=\"1\" class=\"dataframe\">\n",
       "  <thead>\n",
       "    <tr style=\"text-align: right;\">\n",
       "      <th></th>\n",
       "      <th>PT</th>\n",
       "      <th>RS</th>\n",
       "      <th>Torque</th>\n",
       "      <th>TW</th>\n",
       "      <th>MF</th>\n",
       "      <th>TWF</th>\n",
       "      <th>HDF</th>\n",
       "      <th>PWF</th>\n",
       "      <th>OSF</th>\n",
       "      <th>RNF</th>\n",
       "    </tr>\n",
       "  </thead>\n",
       "  <tbody>\n",
       "    <tr>\n",
       "      <th>PT</th>\n",
       "      <td>1.000000</td>\n",
       "      <td>0.019277</td>\n",
       "      <td>-0.014061</td>\n",
       "      <td>0.013488</td>\n",
       "      <td>0.035946</td>\n",
       "      <td>0.007315</td>\n",
       "      <td>0.056933</td>\n",
       "      <td>-0.003355</td>\n",
       "      <td>0.004554</td>\n",
       "      <td>0.022279</td>\n",
       "    </tr>\n",
       "    <tr>\n",
       "      <th>RS</th>\n",
       "      <td>0.019277</td>\n",
       "      <td>1.000000</td>\n",
       "      <td>-0.875027</td>\n",
       "      <td>0.000223</td>\n",
       "      <td>-0.044188</td>\n",
       "      <td>0.010389</td>\n",
       "      <td>-0.121241</td>\n",
       "      <td>0.123018</td>\n",
       "      <td>-0.104575</td>\n",
       "      <td>-0.013088</td>\n",
       "    </tr>\n",
       "    <tr>\n",
       "      <th>Torque</th>\n",
       "      <td>-0.014061</td>\n",
       "      <td>-0.875027</td>\n",
       "      <td>1.000000</td>\n",
       "      <td>-0.003093</td>\n",
       "      <td>0.191321</td>\n",
       "      <td>-0.014662</td>\n",
       "      <td>0.142610</td>\n",
       "      <td>0.083781</td>\n",
       "      <td>0.183465</td>\n",
       "      <td>0.016136</td>\n",
       "    </tr>\n",
       "    <tr>\n",
       "      <th>TW</th>\n",
       "      <td>0.013488</td>\n",
       "      <td>0.000223</td>\n",
       "      <td>-0.003093</td>\n",
       "      <td>1.000000</td>\n",
       "      <td>0.105448</td>\n",
       "      <td>0.115792</td>\n",
       "      <td>-0.001287</td>\n",
       "      <td>-0.009334</td>\n",
       "      <td>0.155894</td>\n",
       "      <td>0.011326</td>\n",
       "    </tr>\n",
       "    <tr>\n",
       "      <th>MF</th>\n",
       "      <td>0.035946</td>\n",
       "      <td>-0.044188</td>\n",
       "      <td>0.191321</td>\n",
       "      <td>0.105448</td>\n",
       "      <td>1.000000</td>\n",
       "      <td>0.362904</td>\n",
       "      <td>0.575800</td>\n",
       "      <td>0.522812</td>\n",
       "      <td>0.531083</td>\n",
       "      <td>0.004516</td>\n",
       "    </tr>\n",
       "    <tr>\n",
       "      <th>TWF</th>\n",
       "      <td>0.007315</td>\n",
       "      <td>0.010389</td>\n",
       "      <td>-0.014662</td>\n",
       "      <td>0.115792</td>\n",
       "      <td>0.362904</td>\n",
       "      <td>1.000000</td>\n",
       "      <td>-0.007332</td>\n",
       "      <td>0.008577</td>\n",
       "      <td>0.038243</td>\n",
       "      <td>0.030970</td>\n",
       "    </tr>\n",
       "    <tr>\n",
       "      <th>HDF</th>\n",
       "      <td>0.056933</td>\n",
       "      <td>-0.121241</td>\n",
       "      <td>0.142610</td>\n",
       "      <td>-0.001287</td>\n",
       "      <td>0.575800</td>\n",
       "      <td>-0.007332</td>\n",
       "      <td>1.000000</td>\n",
       "      <td>0.018443</td>\n",
       "      <td>0.046396</td>\n",
       "      <td>-0.004706</td>\n",
       "    </tr>\n",
       "    <tr>\n",
       "      <th>PWF</th>\n",
       "      <td>-0.003355</td>\n",
       "      <td>0.123018</td>\n",
       "      <td>0.083781</td>\n",
       "      <td>-0.009334</td>\n",
       "      <td>0.522812</td>\n",
       "      <td>0.008577</td>\n",
       "      <td>0.018443</td>\n",
       "      <td>1.000000</td>\n",
       "      <td>0.115836</td>\n",
       "      <td>-0.004273</td>\n",
       "    </tr>\n",
       "    <tr>\n",
       "      <th>OSF</th>\n",
       "      <td>0.004554</td>\n",
       "      <td>-0.104575</td>\n",
       "      <td>0.183465</td>\n",
       "      <td>0.155894</td>\n",
       "      <td>0.531083</td>\n",
       "      <td>0.038243</td>\n",
       "      <td>0.046396</td>\n",
       "      <td>0.115836</td>\n",
       "      <td>1.000000</td>\n",
       "      <td>-0.004341</td>\n",
       "    </tr>\n",
       "    <tr>\n",
       "      <th>RNF</th>\n",
       "      <td>0.022279</td>\n",
       "      <td>-0.013088</td>\n",
       "      <td>0.016136</td>\n",
       "      <td>0.011326</td>\n",
       "      <td>0.004516</td>\n",
       "      <td>0.030970</td>\n",
       "      <td>-0.004706</td>\n",
       "      <td>-0.004273</td>\n",
       "      <td>-0.004341</td>\n",
       "      <td>1.000000</td>\n",
       "    </tr>\n",
       "  </tbody>\n",
       "</table>\n",
       "</div>"
      ],
      "text/plain": [
       "              PT        RS    Torque        TW        MF       TWF       HDF  \\\n",
       "PT      1.000000  0.019277 -0.014061  0.013488  0.035946  0.007315  0.056933   \n",
       "RS      0.019277  1.000000 -0.875027  0.000223 -0.044188  0.010389 -0.121241   \n",
       "Torque -0.014061 -0.875027  1.000000 -0.003093  0.191321 -0.014662  0.142610   \n",
       "TW      0.013488  0.000223 -0.003093  1.000000  0.105448  0.115792 -0.001287   \n",
       "MF      0.035946 -0.044188  0.191321  0.105448  1.000000  0.362904  0.575800   \n",
       "TWF     0.007315  0.010389 -0.014662  0.115792  0.362904  1.000000 -0.007332   \n",
       "HDF     0.056933 -0.121241  0.142610 -0.001287  0.575800 -0.007332  1.000000   \n",
       "PWF    -0.003355  0.123018  0.083781 -0.009334  0.522812  0.008577  0.018443   \n",
       "OSF     0.004554 -0.104575  0.183465  0.155894  0.531083  0.038243  0.046396   \n",
       "RNF     0.022279 -0.013088  0.016136  0.011326  0.004516  0.030970 -0.004706   \n",
       "\n",
       "             PWF       OSF       RNF  \n",
       "PT     -0.003355  0.004554  0.022279  \n",
       "RS      0.123018 -0.104575 -0.013088  \n",
       "Torque  0.083781  0.183465  0.016136  \n",
       "TW     -0.009334  0.155894  0.011326  \n",
       "MF      0.522812  0.531083  0.004516  \n",
       "TWF     0.008577  0.038243  0.030970  \n",
       "HDF     0.018443  0.046396 -0.004706  \n",
       "PWF     1.000000  0.115836 -0.004273  \n",
       "OSF     0.115836  1.000000 -0.004341  \n",
       "RNF    -0.004273 -0.004341  1.000000  "
      ]
     },
     "execution_count": 70,
     "metadata": {},
     "output_type": "execute_result"
    }
   ],
   "source": [
    "'''checking a correlation'''\n",
    "df.iloc[:,1:].corr()"
   ]
  },
  {
   "cell_type": "code",
   "execution_count": 71,
   "metadata": {},
   "outputs": [
    {
     "data": {
      "text/plain": [
       "<AxesSubplot:>"
      ]
     },
     "execution_count": 71,
     "metadata": {},
     "output_type": "execute_result"
    },
    {
     "data": {
      "image/png": "[encoded data removed]",
      "text/plain": [
       "<Figure size 432x288 with 2 Axes>"
      ]
     },
     "metadata": {
      "needs_background": "light"
     },
     "output_type": "display_data"
    }
   ],
   "source": [
    "'''creating heatmap vizualisation'''\n",
    "sns.heatmap(df.corr())"
   ]
  },
  {
   "cell_type": "code",
   "execution_count": 72,
   "metadata": {},
   "outputs": [],
   "source": [
    "x = df.iloc[:,1:]\n",
    "y = df['AT']"
   ]
  },
  {
   "cell_type": "code",
   "execution_count": 73,
   "metadata": {},
   "outputs": [
    {
     "data": {
      "text/html": [
       "<div>\n",
       "<style scoped>\n",
       "    .dataframe tbody tr th:only-of-type {\n",
       "        vertical-align: middle;\n",
       "    }\n",
       "\n",
       "    .dataframe tbody tr th {\n",
       "        vertical-align: top;\n",
       "    }\n",
       "\n",
       "    .dataframe thead th {\n",
       "        text-align: right;\n",
       "    }\n",
       "</style>\n",
       "<table border=\"1\" class=\"dataframe\">\n",
       "  <thead>\n",
       "    <tr style=\"text-align: right;\">\n",
       "      <th></th>\n",
       "      <th>PT</th>\n",
       "      <th>RS</th>\n",
       "      <th>Torque</th>\n",
       "      <th>TW</th>\n",
       "      <th>MF</th>\n",
       "      <th>TWF</th>\n",
       "      <th>HDF</th>\n",
       "      <th>PWF</th>\n",
       "      <th>OSF</th>\n",
       "      <th>RNF</th>\n",
       "    </tr>\n",
       "  </thead>\n",
       "  <tbody>\n",
       "    <tr>\n",
       "      <th>0</th>\n",
       "      <td>-0.947360</td>\n",
       "      <td>0.068185</td>\n",
       "      <td>0.282200</td>\n",
       "      <td>-1.695984</td>\n",
       "      <td>-0.187322</td>\n",
       "      <td>-0.06798</td>\n",
       "      <td>-0.10786</td>\n",
       "      <td>-0.097934</td>\n",
       "      <td>-0.099484</td>\n",
       "      <td>-0.04363</td>\n",
       "    </tr>\n",
       "    <tr>\n",
       "      <th>1</th>\n",
       "      <td>-0.879959</td>\n",
       "      <td>-0.729472</td>\n",
       "      <td>0.633308</td>\n",
       "      <td>-1.648852</td>\n",
       "      <td>-0.187322</td>\n",
       "      <td>-0.06798</td>\n",
       "      <td>-0.10786</td>\n",
       "      <td>-0.097934</td>\n",
       "      <td>-0.099484</td>\n",
       "      <td>-0.04363</td>\n",
       "    </tr>\n",
       "    <tr>\n",
       "      <th>2</th>\n",
       "      <td>-1.014761</td>\n",
       "      <td>-0.227450</td>\n",
       "      <td>0.944290</td>\n",
       "      <td>-1.617430</td>\n",
       "      <td>-0.187322</td>\n",
       "      <td>-0.06798</td>\n",
       "      <td>-0.10786</td>\n",
       "      <td>-0.097934</td>\n",
       "      <td>-0.099484</td>\n",
       "      <td>-0.04363</td>\n",
       "    </tr>\n",
       "    <tr>\n",
       "      <th>3</th>\n",
       "      <td>-0.947360</td>\n",
       "      <td>-0.590021</td>\n",
       "      <td>-0.048845</td>\n",
       "      <td>-1.586009</td>\n",
       "      <td>-0.187322</td>\n",
       "      <td>-0.06798</td>\n",
       "      <td>-0.10786</td>\n",
       "      <td>-0.097934</td>\n",
       "      <td>-0.099484</td>\n",
       "      <td>-0.04363</td>\n",
       "    </tr>\n",
       "    <tr>\n",
       "      <th>4</th>\n",
       "      <td>-0.879959</td>\n",
       "      <td>-0.729472</td>\n",
       "      <td>0.001313</td>\n",
       "      <td>-1.554588</td>\n",
       "      <td>-0.187322</td>\n",
       "      <td>-0.06798</td>\n",
       "      <td>-0.10786</td>\n",
       "      <td>-0.097934</td>\n",
       "      <td>-0.099484</td>\n",
       "      <td>-0.04363</td>\n",
       "    </tr>\n",
       "    <tr>\n",
       "      <th>...</th>\n",
       "      <td>...</td>\n",
       "      <td>...</td>\n",
       "      <td>...</td>\n",
       "      <td>...</td>\n",
       "      <td>...</td>\n",
       "      <td>...</td>\n",
       "      <td>...</td>\n",
       "      <td>...</td>\n",
       "      <td>...</td>\n",
       "      <td>...</td>\n",
       "    </tr>\n",
       "    <tr>\n",
       "      <th>9995</th>\n",
       "      <td>-1.082162</td>\n",
       "      <td>0.363820</td>\n",
       "      <td>-1.052012</td>\n",
       "      <td>-1.476034</td>\n",
       "      <td>-0.187322</td>\n",
       "      <td>-0.06798</td>\n",
       "      <td>-0.10786</td>\n",
       "      <td>-0.097934</td>\n",
       "      <td>-0.099484</td>\n",
       "      <td>-0.04363</td>\n",
       "    </tr>\n",
       "    <tr>\n",
       "      <th>9996</th>\n",
       "      <td>-1.082162</td>\n",
       "      <td>0.520005</td>\n",
       "      <td>-0.821283</td>\n",
       "      <td>-1.428902</td>\n",
       "      <td>-0.187322</td>\n",
       "      <td>-0.06798</td>\n",
       "      <td>-0.10786</td>\n",
       "      <td>-0.097934</td>\n",
       "      <td>-0.099484</td>\n",
       "      <td>-0.04363</td>\n",
       "    </tr>\n",
       "    <tr>\n",
       "      <th>9997</th>\n",
       "      <td>-0.947360</td>\n",
       "      <td>0.592519</td>\n",
       "      <td>-0.660777</td>\n",
       "      <td>-1.350349</td>\n",
       "      <td>-0.187322</td>\n",
       "      <td>-0.06798</td>\n",
       "      <td>-0.10786</td>\n",
       "      <td>-0.097934</td>\n",
       "      <td>-0.099484</td>\n",
       "      <td>-0.04363</td>\n",
       "    </tr>\n",
       "    <tr>\n",
       "      <th>9998</th>\n",
       "      <td>-0.879959</td>\n",
       "      <td>-0.729472</td>\n",
       "      <td>0.854005</td>\n",
       "      <td>-1.303217</td>\n",
       "      <td>-0.187322</td>\n",
       "      <td>-0.06798</td>\n",
       "      <td>-0.10786</td>\n",
       "      <td>-0.097934</td>\n",
       "      <td>-0.099484</td>\n",
       "      <td>-0.04363</td>\n",
       "    </tr>\n",
       "    <tr>\n",
       "      <th>9999</th>\n",
       "      <td>-0.879959</td>\n",
       "      <td>-0.216294</td>\n",
       "      <td>0.021376</td>\n",
       "      <td>-1.224663</td>\n",
       "      <td>-0.187322</td>\n",
       "      <td>-0.06798</td>\n",
       "      <td>-0.10786</td>\n",
       "      <td>-0.097934</td>\n",
       "      <td>-0.099484</td>\n",
       "      <td>-0.04363</td>\n",
       "    </tr>\n",
       "  </tbody>\n",
       "</table>\n",
       "<p>10000 rows × 10 columns</p>\n",
       "</div>"
      ],
      "text/plain": [
       "            PT        RS    Torque        TW        MF      TWF      HDF  \\\n",
       "0    -0.947360  0.068185  0.282200 -1.695984 -0.187322 -0.06798 -0.10786   \n",
       "1    -0.879959 -0.729472  0.633308 -1.648852 -0.187322 -0.06798 -0.10786   \n",
       "2    -1.014761 -0.227450  0.944290 -1.617430 -0.187322 -0.06798 -0.10786   \n",
       "3    -0.947360 -0.590021 -0.048845 -1.586009 -0.187322 -0.06798 -0.10786   \n",
       "4    -0.879959 -0.729472  0.001313 -1.554588 -0.187322 -0.06798 -0.10786   \n",
       "...        ...       ...       ...       ...       ...      ...      ...   \n",
       "9995 -1.082162  0.363820 -1.052012 -1.476034 -0.187322 -0.06798 -0.10786   \n",
       "9996 -1.082162  0.520005 -0.821283 -1.428902 -0.187322 -0.06798 -0.10786   \n",
       "9997 -0.947360  0.592519 -0.660777 -1.350349 -0.187322 -0.06798 -0.10786   \n",
       "9998 -0.879959 -0.729472  0.854005 -1.303217 -0.187322 -0.06798 -0.10786   \n",
       "9999 -0.879959 -0.216294  0.021376 -1.224663 -0.187322 -0.06798 -0.10786   \n",
       "\n",
       "           PWF       OSF      RNF  \n",
       "0    -0.097934 -0.099484 -0.04363  \n",
       "1    -0.097934 -0.099484 -0.04363  \n",
       "2    -0.097934 -0.099484 -0.04363  \n",
       "3    -0.097934 -0.099484 -0.04363  \n",
       "4    -0.097934 -0.099484 -0.04363  \n",
       "...        ...       ...      ...  \n",
       "9995 -0.097934 -0.099484 -0.04363  \n",
       "9996 -0.097934 -0.099484 -0.04363  \n",
       "9997 -0.097934 -0.099484 -0.04363  \n",
       "9998 -0.097934 -0.099484 -0.04363  \n",
       "9999 -0.097934 -0.099484 -0.04363  \n",
       "\n",
       "[10000 rows x 10 columns]"
      ]
     },
     "execution_count": 73,
     "metadata": {},
     "output_type": "execute_result"
    }
   ],
   "source": [
    "x"
   ]
  },
  {
   "cell_type": "code",
   "execution_count": 74,
   "metadata": {},
   "outputs": [
    {
     "data": {
      "text/plain": [
       "Index(['AT', 'PT', 'RS', 'Torque', 'TW', 'MF', 'TWF', 'HDF', 'PWF', 'OSF',\n",
       "       'RNF'],\n",
       "      dtype='object')"
      ]
     },
     "execution_count": 74,
     "metadata": {},
     "output_type": "execute_result"
    }
   ],
   "source": [
    "df.columns"
   ]
  },
  {
   "cell_type": "code",
   "execution_count": 75,
   "metadata": {},
   "outputs": [
    {
     "data": {
      "text/plain": [
       "Index(['AT', 'PT', 'RS', 'Torque', 'TW', 'MF', 'TWF', 'HDF', 'PWF', 'OSF',\n",
       "       'RNF'],\n",
       "      dtype='object')"
      ]
     },
     "execution_count": 75,
     "metadata": {},
     "output_type": "execute_result"
    }
   ],
   "source": [
    "df.columns"
   ]
  },
  {
   "cell_type": "code",
   "execution_count": 76,
   "metadata": {},
   "outputs": [
    {
     "data": {
      "text/html": [
       "<table class=\"simpletable\">\n",
       "<caption>OLS Regression Results</caption>\n",
       "<tr>\n",
       "  <th>Dep. Variable:</th>           <td>AT</td>        <th>  R-squared:         </th> <td>   0.776</td> \n",
       "</tr>\n",
       "<tr>\n",
       "  <th>Model:</th>                   <td>OLS</td>       <th>  Adj. R-squared:    </th> <td>   0.775</td> \n",
       "</tr>\n",
       "<tr>\n",
       "  <th>Method:</th>             <td>Least Squares</td>  <th>  F-statistic:       </th> <td>   3454.</td> \n",
       "</tr>\n",
       "<tr>\n",
       "  <th>Date:</th>             <td>Tue, 31 Aug 2021</td> <th>  Prob (F-statistic):</th>  <td>  0.00</td>  \n",
       "</tr>\n",
       "<tr>\n",
       "  <th>Time:</th>                 <td>09:02:25</td>     <th>  Log-Likelihood:    </th> <td> -13649.</td> \n",
       "</tr>\n",
       "<tr>\n",
       "  <th>No. Observations:</th>      <td> 10000</td>      <th>  AIC:               </th> <td>2.732e+04</td>\n",
       "</tr>\n",
       "<tr>\n",
       "  <th>Df Residuals:</th>          <td>  9989</td>      <th>  BIC:               </th> <td>2.740e+04</td>\n",
       "</tr>\n",
       "<tr>\n",
       "  <th>Df Model:</th>              <td>    10</td>      <th>                     </th>     <td> </td>    \n",
       "</tr>\n",
       "<tr>\n",
       "  <th>Covariance Type:</th>      <td>nonrobust</td>    <th>                     </th>     <td> </td>    \n",
       "</tr>\n",
       "</table>\n",
       "<table class=\"simpletable\">\n",
       "<tr>\n",
       "      <td></td>         <th>coef</th>     <th>std err</th>      <th>t</th>      <th>P>|t|</th>  <th>[0.025</th>    <th>0.975]</th>  \n",
       "</tr>\n",
       "<tr>\n",
       "  <th>Intercept</th> <td>  300.0049</td> <td>    0.009</td> <td> 3.17e+04</td> <td> 0.000</td> <td>  299.986</td> <td>  300.024</td>\n",
       "</tr>\n",
       "<tr>\n",
       "  <th>PT</th>        <td>    1.7415</td> <td>    0.010</td> <td>  183.284</td> <td> 0.000</td> <td>    1.723</td> <td>    1.760</td>\n",
       "</tr>\n",
       "<tr>\n",
       "  <th>RS</th>        <td>    0.0341</td> <td>    0.022</td> <td>    1.582</td> <td> 0.114</td> <td>   -0.008</td> <td>    0.076</td>\n",
       "</tr>\n",
       "<tr>\n",
       "  <th>Torque</th>    <td>    0.0027</td> <td>    0.022</td> <td>    0.123</td> <td> 0.902</td> <td>   -0.040</td> <td>    0.045</td>\n",
       "</tr>\n",
       "<tr>\n",
       "  <th>TW</th>        <td>    0.0054</td> <td>    0.010</td> <td>    0.557</td> <td> 0.578</td> <td>   -0.014</td> <td>    0.024</td>\n",
       "</tr>\n",
       "<tr>\n",
       "  <th>MF</th>        <td>   -0.0163</td> <td>    0.033</td> <td>   -0.500</td> <td> 0.617</td> <td>   -0.080</td> <td>    0.048</td>\n",
       "</tr>\n",
       "<tr>\n",
       "  <th>TWF</th>       <td>    0.0137</td> <td>    0.015</td> <td>    0.923</td> <td> 0.356</td> <td>   -0.015</td> <td>    0.043</td>\n",
       "</tr>\n",
       "<tr>\n",
       "  <th>HDF</th>       <td>    0.1897</td> <td>    0.020</td> <td>    9.334</td> <td> 0.000</td> <td>    0.150</td> <td>    0.230</td>\n",
       "</tr>\n",
       "<tr>\n",
       "  <th>PWF</th>       <td>    0.0138</td> <td>    0.018</td> <td>    0.763</td> <td> 0.445</td> <td>   -0.022</td> <td>    0.049</td>\n",
       "</tr>\n",
       "<tr>\n",
       "  <th>OSF</th>       <td>   -0.0040</td> <td>    0.017</td> <td>   -0.230</td> <td> 0.818</td> <td>   -0.038</td> <td>    0.030</td>\n",
       "</tr>\n",
       "<tr>\n",
       "  <th>RNF</th>       <td>   -0.0025</td> <td>    0.009</td> <td>   -0.263</td> <td> 0.793</td> <td>   -0.021</td> <td>    0.016</td>\n",
       "</tr>\n",
       "</table>\n",
       "<table class=\"simpletable\">\n",
       "<tr>\n",
       "  <th>Omnibus:</th>       <td>647.802</td> <th>  Durbin-Watson:     </th> <td>   0.074</td>\n",
       "</tr>\n",
       "<tr>\n",
       "  <th>Prob(Omnibus):</th> <td> 0.000</td>  <th>  Jarque-Bera (JB):  </th> <td> 241.320</td>\n",
       "</tr>\n",
       "<tr>\n",
       "  <th>Skew:</th>          <td>-0.091</td>  <th>  Prob(JB):          </th> <td>3.96e-53</td>\n",
       "</tr>\n",
       "<tr>\n",
       "  <th>Kurtosis:</th>      <td> 2.261</td>  <th>  Cond. No.          </th> <td>    7.07</td>\n",
       "</tr>\n",
       "</table><br/><br/>Notes:<br/>[1] Standard Errors assume that the covariance matrix of the errors is correctly specified."
      ],
      "text/plain": [
       "<class 'statsmodels.iolib.summary.Summary'>\n",
       "\"\"\"\n",
       "                            OLS Regression Results                            \n",
       "==============================================================================\n",
       "Dep. Variable:                     AT   R-squared:                       0.776\n",
       "Model:                            OLS   Adj. R-squared:                  0.775\n",
       "Method:                 Least Squares   F-statistic:                     3454.\n",
       "Date:                Tue, 31 Aug 2021   Prob (F-statistic):               0.00\n",
       "Time:                        09:02:25   Log-Likelihood:                -13649.\n",
       "No. Observations:               10000   AIC:                         2.732e+04\n",
       "Df Residuals:                    9989   BIC:                         2.740e+04\n",
       "Df Model:                          10                                         \n",
       "Covariance Type:            nonrobust                                         \n",
       "==============================================================================\n",
       "                 coef    std err          t      P>|t|      [0.025      0.975]\n",
       "------------------------------------------------------------------------------\n",
       "Intercept    300.0049      0.009   3.17e+04      0.000     299.986     300.024\n",
       "PT             1.7415      0.010    183.284      0.000       1.723       1.760\n",
       "RS             0.0341      0.022      1.582      0.114      -0.008       0.076\n",
       "Torque         0.0027      0.022      0.123      0.902      -0.040       0.045\n",
       "TW             0.0054      0.010      0.557      0.578      -0.014       0.024\n",
       "MF            -0.0163      0.033     -0.500      0.617      -0.080       0.048\n",
       "TWF            0.0137      0.015      0.923      0.356      -0.015       0.043\n",
       "HDF            0.1897      0.020      9.334      0.000       0.150       0.230\n",
       "PWF            0.0138      0.018      0.763      0.445      -0.022       0.049\n",
       "OSF           -0.0040      0.017     -0.230      0.818      -0.038       0.030\n",
       "RNF           -0.0025      0.009     -0.263      0.793      -0.021       0.016\n",
       "==============================================================================\n",
       "Omnibus:                      647.802   Durbin-Watson:                   0.074\n",
       "Prob(Omnibus):                  0.000   Jarque-Bera (JB):              241.320\n",
       "Skew:                          -0.091   Prob(JB):                     3.96e-53\n",
       "Kurtosis:                       2.261   Cond. No.                         7.07\n",
       "==============================================================================\n",
       "\n",
       "Notes:\n",
       "[1] Standard Errors assume that the covariance matrix of the errors is correctly specified.\n",
       "\"\"\""
      ]
     },
     "execution_count": 76,
     "metadata": {},
     "output_type": "execute_result"
    }
   ],
   "source": [
    "import statsmodels.formula.api as smf\n",
    "lm = smf.ols(formula='AT ~ PT+ RS+ Torque+TW+MF+TWF+HDF +PWF +OSF +RNF', data=df).fit()\n",
    "lm.summary()"
   ]
  },
  {
   "cell_type": "code",
   "execution_count": 77,
   "metadata": {},
   "outputs": [],
   "source": [
    "from statsmodels.stats.outliers_influence import variance_inflation_factor\n",
    "vif_df = pd.DataFrame()"
   ]
  },
  {
   "cell_type": "code",
   "execution_count": 78,
   "metadata": {},
   "outputs": [],
   "source": [
    "vif_df['vif'] = [variance_inflation_factor(df1,i) for i in range(df1.shape[1])]"
   ]
  },
  {
   "cell_type": "code",
   "execution_count": 79,
   "metadata": {},
   "outputs": [],
   "source": [
    "vif_df['feature']  = x.columns"
   ]
  },
  {
   "cell_type": "code",
   "execution_count": 80,
   "metadata": {},
   "outputs": [
    {
     "data": {
      "text/html": [
       "<div>\n",
       "<style scoped>\n",
       "    .dataframe tbody tr th:only-of-type {\n",
       "        vertical-align: middle;\n",
       "    }\n",
       "\n",
       "    .dataframe tbody tr th {\n",
       "        vertical-align: top;\n",
       "    }\n",
       "\n",
       "    .dataframe thead th {\n",
       "        text-align: right;\n",
       "    }\n",
       "</style>\n",
       "<table border=\"1\" class=\"dataframe\">\n",
       "  <thead>\n",
       "    <tr style=\"text-align: right;\">\n",
       "      <th></th>\n",
       "      <th>vif</th>\n",
       "      <th>feature</th>\n",
       "    </tr>\n",
       "  </thead>\n",
       "  <tbody>\n",
       "    <tr>\n",
       "      <th>0</th>\n",
       "      <td>1.004799</td>\n",
       "      <td>PT</td>\n",
       "    </tr>\n",
       "    <tr>\n",
       "      <th>1</th>\n",
       "      <td>5.171592</td>\n",
       "      <td>RS</td>\n",
       "    </tr>\n",
       "    <tr>\n",
       "      <th>2</th>\n",
       "      <td>5.236156</td>\n",
       "      <td>Torque</td>\n",
       "    </tr>\n",
       "    <tr>\n",
       "      <th>3</th>\n",
       "      <td>1.039958</td>\n",
       "      <td>TW</td>\n",
       "    </tr>\n",
       "    <tr>\n",
       "      <th>4</th>\n",
       "      <td>11.829612</td>\n",
       "      <td>MF</td>\n",
       "    </tr>\n",
       "    <tr>\n",
       "      <th>5</th>\n",
       "      <td>2.433058</td>\n",
       "      <td>TWF</td>\n",
       "    </tr>\n",
       "    <tr>\n",
       "      <th>6</th>\n",
       "      <td>4.597022</td>\n",
       "      <td>HDF</td>\n",
       "    </tr>\n",
       "    <tr>\n",
       "      <th>7</th>\n",
       "      <td>3.623946</td>\n",
       "      <td>PWF</td>\n",
       "    </tr>\n",
       "    <tr>\n",
       "      <th>8</th>\n",
       "      <td>3.347600</td>\n",
       "      <td>OSF</td>\n",
       "    </tr>\n",
       "    <tr>\n",
       "      <th>9</th>\n",
       "      <td>1.002015</td>\n",
       "      <td>RNF</td>\n",
       "    </tr>\n",
       "  </tbody>\n",
       "</table>\n",
       "</div>"
      ],
      "text/plain": [
       "         vif feature\n",
       "0   1.004799      PT\n",
       "1   5.171592      RS\n",
       "2   5.236156  Torque\n",
       "3   1.039958      TW\n",
       "4  11.829612      MF\n",
       "5   2.433058     TWF\n",
       "6   4.597022     HDF\n",
       "7   3.623946     PWF\n",
       "8   3.347600     OSF\n",
       "9   1.002015     RNF"
      ]
     },
     "execution_count": 80,
     "metadata": {},
     "output_type": "execute_result"
    }
   ],
   "source": [
    "vif_df"
   ]
  },
  {
   "cell_type": "code",
   "execution_count": 81,
   "metadata": {},
   "outputs": [
    {
     "data": {
      "text/html": [
       "<div>\n",
       "<style scoped>\n",
       "    .dataframe tbody tr th:only-of-type {\n",
       "        vertical-align: middle;\n",
       "    }\n",
       "\n",
       "    .dataframe tbody tr th {\n",
       "        vertical-align: top;\n",
       "    }\n",
       "\n",
       "    .dataframe thead th {\n",
       "        text-align: right;\n",
       "    }\n",
       "</style>\n",
       "<table border=\"1\" class=\"dataframe\">\n",
       "  <thead>\n",
       "    <tr style=\"text-align: right;\">\n",
       "      <th></th>\n",
       "      <th>AT</th>\n",
       "      <th>PT</th>\n",
       "      <th>RS</th>\n",
       "      <th>Torque</th>\n",
       "      <th>TW</th>\n",
       "      <th>TWF</th>\n",
       "      <th>HDF</th>\n",
       "      <th>PWF</th>\n",
       "      <th>OSF</th>\n",
       "      <th>RNF</th>\n",
       "    </tr>\n",
       "  </thead>\n",
       "  <tbody>\n",
       "    <tr>\n",
       "      <th>0</th>\n",
       "      <td>298.1</td>\n",
       "      <td>-0.947360</td>\n",
       "      <td>0.068185</td>\n",
       "      <td>0.282200</td>\n",
       "      <td>-1.695984</td>\n",
       "      <td>-0.06798</td>\n",
       "      <td>-0.10786</td>\n",
       "      <td>-0.097934</td>\n",
       "      <td>-0.099484</td>\n",
       "      <td>-0.04363</td>\n",
       "    </tr>\n",
       "    <tr>\n",
       "      <th>1</th>\n",
       "      <td>298.2</td>\n",
       "      <td>-0.879959</td>\n",
       "      <td>-0.729472</td>\n",
       "      <td>0.633308</td>\n",
       "      <td>-1.648852</td>\n",
       "      <td>-0.06798</td>\n",
       "      <td>-0.10786</td>\n",
       "      <td>-0.097934</td>\n",
       "      <td>-0.099484</td>\n",
       "      <td>-0.04363</td>\n",
       "    </tr>\n",
       "    <tr>\n",
       "      <th>2</th>\n",
       "      <td>298.1</td>\n",
       "      <td>-1.014761</td>\n",
       "      <td>-0.227450</td>\n",
       "      <td>0.944290</td>\n",
       "      <td>-1.617430</td>\n",
       "      <td>-0.06798</td>\n",
       "      <td>-0.10786</td>\n",
       "      <td>-0.097934</td>\n",
       "      <td>-0.099484</td>\n",
       "      <td>-0.04363</td>\n",
       "    </tr>\n",
       "    <tr>\n",
       "      <th>3</th>\n",
       "      <td>298.2</td>\n",
       "      <td>-0.947360</td>\n",
       "      <td>-0.590021</td>\n",
       "      <td>-0.048845</td>\n",
       "      <td>-1.586009</td>\n",
       "      <td>-0.06798</td>\n",
       "      <td>-0.10786</td>\n",
       "      <td>-0.097934</td>\n",
       "      <td>-0.099484</td>\n",
       "      <td>-0.04363</td>\n",
       "    </tr>\n",
       "    <tr>\n",
       "      <th>4</th>\n",
       "      <td>298.2</td>\n",
       "      <td>-0.879959</td>\n",
       "      <td>-0.729472</td>\n",
       "      <td>0.001313</td>\n",
       "      <td>-1.554588</td>\n",
       "      <td>-0.06798</td>\n",
       "      <td>-0.10786</td>\n",
       "      <td>-0.097934</td>\n",
       "      <td>-0.099484</td>\n",
       "      <td>-0.04363</td>\n",
       "    </tr>\n",
       "    <tr>\n",
       "      <th>...</th>\n",
       "      <td>...</td>\n",
       "      <td>...</td>\n",
       "      <td>...</td>\n",
       "      <td>...</td>\n",
       "      <td>...</td>\n",
       "      <td>...</td>\n",
       "      <td>...</td>\n",
       "      <td>...</td>\n",
       "      <td>...</td>\n",
       "      <td>...</td>\n",
       "    </tr>\n",
       "    <tr>\n",
       "      <th>9995</th>\n",
       "      <td>298.8</td>\n",
       "      <td>-1.082162</td>\n",
       "      <td>0.363820</td>\n",
       "      <td>-1.052012</td>\n",
       "      <td>-1.476034</td>\n",
       "      <td>-0.06798</td>\n",
       "      <td>-0.10786</td>\n",
       "      <td>-0.097934</td>\n",
       "      <td>-0.099484</td>\n",
       "      <td>-0.04363</td>\n",
       "    </tr>\n",
       "    <tr>\n",
       "      <th>9996</th>\n",
       "      <td>298.9</td>\n",
       "      <td>-1.082162</td>\n",
       "      <td>0.520005</td>\n",
       "      <td>-0.821283</td>\n",
       "      <td>-1.428902</td>\n",
       "      <td>-0.06798</td>\n",
       "      <td>-0.10786</td>\n",
       "      <td>-0.097934</td>\n",
       "      <td>-0.099484</td>\n",
       "      <td>-0.04363</td>\n",
       "    </tr>\n",
       "    <tr>\n",
       "      <th>9997</th>\n",
       "      <td>299.0</td>\n",
       "      <td>-0.947360</td>\n",
       "      <td>0.592519</td>\n",
       "      <td>-0.660777</td>\n",
       "      <td>-1.350349</td>\n",
       "      <td>-0.06798</td>\n",
       "      <td>-0.10786</td>\n",
       "      <td>-0.097934</td>\n",
       "      <td>-0.099484</td>\n",
       "      <td>-0.04363</td>\n",
       "    </tr>\n",
       "    <tr>\n",
       "      <th>9998</th>\n",
       "      <td>299.0</td>\n",
       "      <td>-0.879959</td>\n",
       "      <td>-0.729472</td>\n",
       "      <td>0.854005</td>\n",
       "      <td>-1.303217</td>\n",
       "      <td>-0.06798</td>\n",
       "      <td>-0.10786</td>\n",
       "      <td>-0.097934</td>\n",
       "      <td>-0.099484</td>\n",
       "      <td>-0.04363</td>\n",
       "    </tr>\n",
       "    <tr>\n",
       "      <th>9999</th>\n",
       "      <td>299.0</td>\n",
       "      <td>-0.879959</td>\n",
       "      <td>-0.216294</td>\n",
       "      <td>0.021376</td>\n",
       "      <td>-1.224663</td>\n",
       "      <td>-0.06798</td>\n",
       "      <td>-0.10786</td>\n",
       "      <td>-0.097934</td>\n",
       "      <td>-0.099484</td>\n",
       "      <td>-0.04363</td>\n",
       "    </tr>\n",
       "  </tbody>\n",
       "</table>\n",
       "<p>10000 rows × 10 columns</p>\n",
       "</div>"
      ],
      "text/plain": [
       "         AT        PT        RS    Torque        TW      TWF      HDF  \\\n",
       "0     298.1 -0.947360  0.068185  0.282200 -1.695984 -0.06798 -0.10786   \n",
       "1     298.2 -0.879959 -0.729472  0.633308 -1.648852 -0.06798 -0.10786   \n",
       "2     298.1 -1.014761 -0.227450  0.944290 -1.617430 -0.06798 -0.10786   \n",
       "3     298.2 -0.947360 -0.590021 -0.048845 -1.586009 -0.06798 -0.10786   \n",
       "4     298.2 -0.879959 -0.729472  0.001313 -1.554588 -0.06798 -0.10786   \n",
       "...     ...       ...       ...       ...       ...      ...      ...   \n",
       "9995  298.8 -1.082162  0.363820 -1.052012 -1.476034 -0.06798 -0.10786   \n",
       "9996  298.9 -1.082162  0.520005 -0.821283 -1.428902 -0.06798 -0.10786   \n",
       "9997  299.0 -0.947360  0.592519 -0.660777 -1.350349 -0.06798 -0.10786   \n",
       "9998  299.0 -0.879959 -0.729472  0.854005 -1.303217 -0.06798 -0.10786   \n",
       "9999  299.0 -0.879959 -0.216294  0.021376 -1.224663 -0.06798 -0.10786   \n",
       "\n",
       "           PWF       OSF      RNF  \n",
       "0    -0.097934 -0.099484 -0.04363  \n",
       "1    -0.097934 -0.099484 -0.04363  \n",
       "2    -0.097934 -0.099484 -0.04363  \n",
       "3    -0.097934 -0.099484 -0.04363  \n",
       "4    -0.097934 -0.099484 -0.04363  \n",
       "...        ...       ...      ...  \n",
       "9995 -0.097934 -0.099484 -0.04363  \n",
       "9996 -0.097934 -0.099484 -0.04363  \n",
       "9997 -0.097934 -0.099484 -0.04363  \n",
       "9998 -0.097934 -0.099484 -0.04363  \n",
       "9999 -0.097934 -0.099484 -0.04363  \n",
       "\n",
       "[10000 rows x 10 columns]"
      ]
     },
     "execution_count": 81,
     "metadata": {},
     "output_type": "execute_result"
    }
   ],
   "source": [
    "#as machine failure is highly correlated hence dropping the feature.\n",
    "df.drop(['MF'], inplace =True, axis =1)\n",
    "df"
   ]
  },
  {
   "cell_type": "code",
   "execution_count": 82,
   "metadata": {},
   "outputs": [],
   "source": [
    "x_train, x_test, y_train,y_test = train_test_split(df, y,test_size= 0.20,random_state = 100)"
   ]
  },
  {
   "cell_type": "code",
   "execution_count": 83,
   "metadata": {},
   "outputs": [
    {
     "data": {
      "text/plain": [
       "LinearRegression()"
      ]
     },
     "execution_count": 83,
     "metadata": {},
     "output_type": "execute_result"
    }
   ],
   "source": [
    "from sklearn.linear_model import LinearRegression\n",
    "lm = LinearRegression()\n",
    "lm.fit(x_train, y_train)"
   ]
  },
  {
   "cell_type": "code",
   "execution_count": 84,
   "metadata": {},
   "outputs": [
    {
     "data": {
      "text/plain": [
       "array([ 1.00000000e+00, -2.08395666e-16, -7.11599448e-17, -4.06825875e-17,\n",
       "        2.86734649e-17, -4.06263392e-17,  3.91732782e-17,  9.52521992e-17,\n",
       "        6.50839281e-17,  2.36665904e-18])"
      ]
     },
     "execution_count": 84,
     "metadata": {},
     "output_type": "execute_result"
    }
   ],
   "source": [
    "lm.coef_"
   ]
  },
  {
   "cell_type": "code",
   "execution_count": 85,
   "metadata": {},
   "outputs": [
    {
     "data": {
      "text/plain": [
       "1.0"
      ]
     },
     "execution_count": 85,
     "metadata": {},
     "output_type": "execute_result"
    }
   ],
   "source": [
    "lm.score(x_train,y_train)"
   ]
  },
  {
   "cell_type": "code",
   "execution_count": 86,
   "metadata": {},
   "outputs": [
    {
     "data": {
      "text/plain": [
       "LinearRegression()"
      ]
     },
     "execution_count": 86,
     "metadata": {},
     "output_type": "execute_result"
    }
   ],
   "source": [
    "lm.fit(x_test,y_test)"
   ]
  },
  {
   "cell_type": "code",
   "execution_count": 87,
   "metadata": {},
   "outputs": [
    {
     "data": {
      "text/plain": [
       "1.0"
      ]
     },
     "execution_count": 87,
     "metadata": {},
     "output_type": "execute_result"
    }
   ],
   "source": [
    "lm.score(x_test,y_test)"
   ]
  },
  {
   "cell_type": "code",
   "execution_count": 88,
   "metadata": {},
   "outputs": [],
   "source": [
    "from sklearn.metrics import mean_squared_error, r2_score\n",
    "y_pred= lm.predict(x_test)"
   ]
  },
  {
   "cell_type": "code",
   "execution_count": 89,
   "metadata": {},
   "outputs": [
    {
     "name": "stdout",
     "output_type": "stream",
     "text": [
      "MSE is 0.0\n"
     ]
    }
   ],
   "source": [
    "print('MSE is', mean_squared_error(y_test, y_pred))"
   ]
  },
  {
   "cell_type": "code",
   "execution_count": 90,
   "metadata": {},
   "outputs": [
    {
     "name": "stdout",
     "output_type": "stream",
     "text": [
      "R2 score is 1.0\n"
     ]
    }
   ],
   "source": [
    "print('R2 score is',r2_score(y_test, y_pred))"
   ]
  },
  {
   "cell_type": "code",
   "execution_count": 91,
   "metadata": {},
   "outputs": [],
   "source": [
    "import statsmodels.api as sm\n",
    "x = sm.add_constant(x)\n",
    "model = sm.OLS(y, x).fit()"
   ]
  },
  {
   "cell_type": "code",
   "execution_count": 92,
   "metadata": {},
   "outputs": [
    {
     "name": "stdout",
     "output_type": "stream",
     "text": [
      "0.7754414326406445\n"
     ]
    }
   ],
   "source": [
    "print(model.rsquared_adj)"
   ]
  },
  {
   "cell_type": "code",
   "execution_count": 93,
   "metadata": {},
   "outputs": [
    {
     "data": {
      "text/plain": [
       "LassoCV(cv=50, max_iter=200000, normalize=True)"
      ]
     },
     "execution_count": 93,
     "metadata": {},
     "output_type": "execute_result"
    }
   ],
   "source": [
    "from sklearn.linear_model import Ridge,Lasso ,RidgeCV,LassoCV , ElasticNet , ElasticNetCV,LinearRegression\n",
    "lassocv = LassoCV(alphas=None,cv= 50 , max_iter=200000, normalize=True)\n",
    "lassocv.fit(x_train,y_train)\n"
   ]
  },
  {
   "cell_type": "code",
   "execution_count": 94,
   "metadata": {},
   "outputs": [
    {
     "data": {
      "text/plain": [
       "2.2202517648273078e-05"
      ]
     },
     "execution_count": 94,
     "metadata": {},
     "output_type": "execute_result"
    }
   ],
   "source": [
    "lassocv.alpha_"
   ]
  },
  {
   "cell_type": "code",
   "execution_count": 95,
   "metadata": {},
   "outputs": [
    {
     "data": {
      "text/plain": [
       "Lasso(alpha=2.2202517648273078e-05)"
      ]
     },
     "execution_count": 95,
     "metadata": {},
     "output_type": "execute_result"
    }
   ],
   "source": [
    "lasso = Lasso(alpha=lassocv.alpha_)\n",
    "lasso.fit(x_train,y_train)"
   ]
  },
  {
   "cell_type": "code",
   "execution_count": 96,
   "metadata": {},
   "outputs": [
    {
     "data": {
      "text/plain": [
       "0.9999999999683"
      ]
     },
     "execution_count": 96,
     "metadata": {},
     "output_type": "execute_result"
    }
   ],
   "source": [
    "lasso.score(x_test,y_test)"
   ]
  },
  {
   "cell_type": "code",
   "execution_count": 97,
   "metadata": {},
   "outputs": [
    {
     "data": {
      "text/plain": [
       "RidgeCV(alphas=array([9.2477559 , 9.38315745, 5.66570201, 7.99028931, 5.78491195,\n",
       "       5.70244971, 8.88523751, 1.76105427, 9.53930774, 4.30296648,\n",
       "       6.98839336, 6.32436168, 3.12226977, 8.8347906 , 2.85367756,\n",
       "       6.37098016, 9.89315527, 6.30782845, 7.43513287, 7.01233405,\n",
       "       4.13637704, 7.95644036, 7.77719052, 7.76495746, 4.52752722,\n",
       "       8.79709371, 0.62227358, 3.21649815, 1.79041066, 1.38532157,\n",
       "       9.37080218, 9.7942661 , 5.63428886, 9.06086258, 1.66368861,\n",
       "       1.23783991, 8.97752779, 2.4150063 , 8.54618535, 6.70817717,\n",
       "       0.97963778, 5.43173972, 7.93906714, 8.88882944, 7.01429952,\n",
       "       8.34857021, 6.68590536, 5.02231658, 8.39293748, 6.30092144]),\n",
       "        cv=10, normalize=True)"
      ]
     },
     "execution_count": 97,
     "metadata": {},
     "output_type": "execute_result"
    }
   ],
   "source": [
    "ridgecv = RidgeCV(alphas=np.random.uniform(0,10,50),cv = 10 , normalize=True)\n",
    "ridgecv.fit(x_train,y_train)"
   ]
  },
  {
   "cell_type": "code",
   "execution_count": 98,
   "metadata": {},
   "outputs": [
    {
     "data": {
      "text/plain": [
       "0.6222735764448006"
      ]
     },
     "execution_count": 98,
     "metadata": {},
     "output_type": "execute_result"
    }
   ],
   "source": [
    "ridgecv.alpha_"
   ]
  },
  {
   "cell_type": "code",
   "execution_count": 99,
   "metadata": {},
   "outputs": [
    {
     "data": {
      "text/plain": [
       "Ridge(alpha=0.6222735764448006)"
      ]
     },
     "execution_count": 99,
     "metadata": {},
     "output_type": "execute_result"
    }
   ],
   "source": [
    "ridge_lr = Ridge(alpha=ridgecv.alpha_)\n",
    "ridge_lr.fit(x_train,y_train)"
   ]
  },
  {
   "cell_type": "code",
   "execution_count": 100,
   "metadata": {},
   "outputs": [
    {
     "data": {
      "text/plain": [
       "0.9999999985045511"
      ]
     },
     "execution_count": 100,
     "metadata": {},
     "output_type": "execute_result"
    }
   ],
   "source": [
    "ridge_lr.score(x_test,y_test)"
   ]
  },
  {
   "cell_type": "code",
   "execution_count": 101,
   "metadata": {},
   "outputs": [
    {
     "data": {
      "text/plain": [
       "ElasticNetCV(cv=10)"
      ]
     },
     "execution_count": 101,
     "metadata": {},
     "output_type": "execute_result"
    }
   ],
   "source": [
    "elastic= ElasticNetCV(alphas=None, cv = 10 )\n",
    "elastic.fit(x_train,y_train)"
   ]
  },
  {
   "cell_type": "code",
   "execution_count": 102,
   "metadata": {},
   "outputs": [
    {
     "data": {
      "text/plain": [
       "0.007887228638749995"
      ]
     },
     "execution_count": 102,
     "metadata": {},
     "output_type": "execute_result"
    }
   ],
   "source": [
    "elastic.alpha_"
   ]
  },
  {
   "cell_type": "code",
   "execution_count": 103,
   "metadata": {},
   "outputs": [
    {
     "data": {
      "text/plain": [
       "0.5"
      ]
     },
     "execution_count": 103,
     "metadata": {},
     "output_type": "execute_result"
    }
   ],
   "source": [
    "elastic.l1_ratio_"
   ]
  },
  {
   "cell_type": "code",
   "execution_count": 104,
   "metadata": {},
   "outputs": [],
   "source": [
    "elastic_lr = ElasticNet(alpha=elastic.alpha_ , l1_ratio=elastic.l1_ratio_)"
   ]
  },
  {
   "cell_type": "code",
   "execution_count": 105,
   "metadata": {},
   "outputs": [
    {
     "data": {
      "text/plain": [
       "ElasticNet(alpha=0.007887228638749995)"
      ]
     },
     "execution_count": 105,
     "metadata": {},
     "output_type": "execute_result"
    }
   ],
   "source": [
    "elastic_lr.fit(x_train,y_train)"
   ]
  },
  {
   "cell_type": "code",
   "execution_count": 106,
   "metadata": {},
   "outputs": [
    {
     "data": {
      "text/plain": [
       "0.9999960075902897"
      ]
     },
     "execution_count": 106,
     "metadata": {},
     "output_type": "execute_result"
    }
   ],
   "source": [
    "elastic_lr.score(x_test,y_test)"
   ]
  },
  {
   "cell_type": "code",
   "execution_count": 108,
   "metadata": {},
   "outputs": [],
   "source": [
    "file = 'linear_reg.sav'\n",
    "pickle.dump(lm,open(file,'wb'))"
   ]
  },
  {
   "cell_type": "code",
   "execution_count": null,
   "metadata": {},
   "outputs": [],
   "source": []
  },
  {
   "cell_type": "code",
   "execution_count": null,
   "metadata": {},
   "outputs": [],
   "source": []
  },
  {
   "cell_type": "code",
   "execution_count": null,
   "metadata": {},
   "outputs": [],
   "source": []
  }
 ],
 "metadata": {
  "kernelspec": {
   "display_name": "Python 3",
   "language": "python",
   "name": "python3"
  },
  "language_info": {
   "codemirror_mode": {
    "name": "ipython",
    "version": 3
   },
   "file_extension": ".py",
   "mimetype": "text/x-python",
   "name": "python",
   "nbconvert_exporter": "python",
   "pygments_lexer": "ipython3",
   "version": "3.8.5"
  }
 },
 "nbformat": 4,
 "nbformat_minor": 4
}
